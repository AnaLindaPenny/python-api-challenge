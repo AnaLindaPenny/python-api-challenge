{
 "cells": [
  {
   "cell_type": "markdown",
   "metadata": {},
   "source": [
    "# WeatherPy\n",
    "----\n",
    "\n",
    "#### Note\n",
    "* Instructions have been included for each segment. You do not have to follow them exactly, but they are included to help you think through the steps."
   ]
  },
  {
   "cell_type": "code",
   "execution_count": null,
   "metadata": {
    "scrolled": true
   },
   "outputs": [],
   "source": [
    "# Dependencies and Setup\n",
    "import matplotlib.pyplot as plt\n",
    "import pandas as pd\n",
    "import numpy as np\n",
    "import requests\n",
    "import json\n",
    "import time\n",
    "from scipy.stats import linregress\n",
    "\n",
    "# Import API key\n",
    "from api_keys import api_keys\n",
    "\n",
    "# Incorporated citipy to determine city based on latitude and longitude\n",
    "from citypy import citipy\n",
    "\n",
    "\n",
    "# Output File (CSV)\n",
    "output_data_file = \".../output_data/cities.csv\"\n",
    "\n",
    "# Range of latitudes and longitudes\n",
    "lat_range = (-90, 90)\n",
    "lng_range = (-180, 180)"
   ]
  },
  {
   "cell_type": "markdown",
   "metadata": {},
   "source": [
    "## Generate Cities List"
   ]
  },
  {
   "cell_type": "code",
   "execution_count": null,
   "metadata": {},
   "outputs": [],
   "source": [
    "# List for holding lat_lngs and cities\n",
    "lat_lngs = []\n",
    "cities = []\n",
    "\n",
    "# Create a set of random lat and lng combinations\n",
    "lats = np.random.uniform(lat_range[0], lat_range[1], size=1500)\n",
    "lngs = np.random.uniform(lng_range[0], lng_range[1], size=1500)\n",
    "lat_lngs = zip(lats, lngs)\n",
    "\n",
    "# Identify nearest city for each lat, lng combination\n",
    "for lat_lng in lat_lngs:\n",
    "    city = citipy.nearest_city(lat_lng[0], lat_lng[1]).city_name\n",
    "    \n",
    "    # If the city is unique, then add it to a our cities list\n",
    "    if city not in cities:\n",
    "        cities.append(city)\n",
    "\n",
    "# Print the city count to confirm sufficient count\n",
    "len(cities)"
   ]
  },
  {
   "cell_type": "markdown",
   "metadata": {},
   "source": [
    "### Perform API Calls\n",
    "* Perform a weather check on each city using a series of successive API calls.\n",
    "* Include a print log of each city as it'sbeing processed (with the city number and city name).\n"
   ]
  },
  {
   "cell_type": "code",
   "execution_count": null,
   "metadata": {
    "scrolled": true
   },
   "outputs": [],
   "source": [
    "url = \"http://api.openweathermap.org/data/2.5/weather?\"\n",
    "units = \"imperial\"\n",
    "query_url = f\"{url}appid={weather_api_key}&units={units}&q=\"\n",
    "\n",
    "#Create empty lists for the data we need to store.\n",
    "city_two = []\n",
    "cloudiness = []\n",
    "country = []\n",
    "date = []\n",
    "humidity = []\n",
    "lat = []\n",
    "lng = []\n",
    "max_temp = []\n",
    "wind_speed = []\n",
    "\n",
    "#Sets and Counts for API calls\n",
    "count_one = 0\n",
    "set_one = 1\n",
    "\n",
    "#For Loop to gather Weather Information\n",
    "for city in cities:\n",
    "    try:\n",
    "        city_url = query_url + city\n",
    "        response = requests.get(city_url).json()\n",
    "        cloudiness.append(response['clouds']['all'])\n",
    "        country.append(response['sys']['country'])\n",
    "        date.append(response['dt'])\n",
    "        humidity.append(response['main']['humidity'])\n",
    "        lat.append(response['coord']['lat'])\n",
    "        lng.append(response['coord']['lon'])\n",
    "        max_temp.append(response['main']['temp_max'])\n",
    "        wind_speed.append(response['wind']['speed'])\n",
    "        if count_one > 48:\n",
    "            count_one = 1\n",
    "            set_one += 1\n",
    "            city_two.append(city)\n",
    "        else: \n",
    "            count_one += 1\n",
    "            city_two.append(city)\n",
    "        print(f\"Retrieving Record {count_one} of Set {set_one} for City: {city}\")\n",
    "    except KeyError:\n",
    "        print(\"City Not Found. Skipping...\")\n",
    "        \n",
    "print(\"Data Retrieval Completed.\")"
   ]
  },
  {
   "cell_type": "markdown",
   "metadata": {},
   "source": [
    "### Convert Raw Data to DataFrame\n",
    "* Export the city data into a .csv.\n",
    "* Display the DataFrame"
   ]
  },
  {
   "cell_type": "code",
   "execution_count": null,
   "metadata": {},
   "outputs": [],
   "source": [
    "#Create a Dictionary for the DataFrame\n",
    "weather_dict = {\"City\": city_two,\n",
    "               \"Cloudiness\": cloudiness,\n",
    "               \"Country\": country,\n",
    "               \"Date\": date,\n",
    "               \"Humidity\": humidity,\n",
    "               \"Lat\": lat,\n",
    "               \"Lng\": lng,\n",
    "               \"Max Temp\": max_temp,\n",
    "               \"Wind Speed\": wind_speed}\n",
    "\n",
    "#Create DataFrame\n",
    "weather_data = pd.DataFrame(weather_dict)\n",
    "\n",
    "weather_data.head()"
   ]
  },
  {
   "cell_type": "code",
   "execution_count": null,
   "metadata": {},
   "outputs": [],
   "source": [
    "weather_data.count()"
   ]
  },
  {
   "cell_type": "code",
   "execution_count": null,
   "metadata": {},
   "outputs": [],
   "source": [
    "#Export the City Data into a .csv\n",
    "weather_data.to_csv(output_data_file)"
   ]
  },
  {
   "cell_type": "markdown",
   "metadata": {},
   "source": [
    "## Inspect the data and remove the cities where the humidity > 100%.\n",
    "----\n",
    "Skip this step if there are no cities that have humidity > 100%. "
   ]
  },
  {
   "cell_type": "code",
   "execution_count": null,
   "metadata": {},
   "outputs": [],
   "source": [
    "#  Get the indices of cities that have humidity over 100%.\n",
    "humidity_stats = weather_data['Humidity'].describe()\n",
    "\n",
    "print(\"The statistics for the Humidity column show the maximum as 100%. There are no cities with humidity over 100%.\")\n",
    "print(humidity_stats)\n"
   ]
  },
  {
   "cell_type": "markdown",
   "metadata": {},
   "source": [
    "## Plotting the Data\n",
    "* Use proper labeling of the plots using plot titles (including date of analysis) and axes labels.\n",
    "* Save the plotted figures as .pngs."
   ]
  },
  {
   "cell_type": "markdown",
   "metadata": {},
   "source": [
    "## Latitude vs. Temperature Plot"
   ]
  },
  {
   "cell_type": "code",
   "execution_count": null,
   "metadata": {
    "scrolled": true
   },
   "outputs": [],
   "source": [
    "#Create the Scatter Plot for Latitude vs. Max Temperature\n",
    "weather_data.plot(kind='scatter', x ='Lat', y='Max Temp', marker='o', color='crimson', edgecolor='darkred', alpha=0.5)\n",
    "\n",
    "#Define Labels\n",
    "plt.xlabel(\"Latitude\")\n",
    "plt.ylabel(\"Temperature (F)\")\n",
    "plt.title(\"City Latitude vs. Max Temperature (F)\")\n",
    "\n",
    "plt.tight_layout()\n",
    "\n",
    "#Save the plot as a .png\n",
    "plt.savefig(\"../Images/Latitude_MaxTemp.png\")"
   ]
  },
  {
   "cell_type": "markdown",
   "metadata": {},
   "source": [
    "## Latitude vs. Humidity Plot"
   ]
  },
  {
   "cell_type": "code",
   "execution_count": null,
   "metadata": {},
   "outputs": [],
   "source": [
    "#Create the Scatter Plot for Latitude vs. Humidity\n",
    "weather_data.plot(kind='scatter', x ='Lat', y='Humidity', marker='o', color='skyblue', \n",
    "                  edgecolor='steelblue', alpha=0.5)\n",
    "\n",
    "#Define Labels\n",
    "plt.xlabel(\"Latitude\")\n",
    "plt.ylabel(\"Humidity (%)\")\n",
    "plt.title(\"City Latitude vs. Humidity (%)\")\n",
    "\n",
    "plt.tight_layout()\n",
    "\n",
    "#Save the plot as a .png\n",
    "plt.savefig(\"../Images/Latitude_Humidity.png\")"
   ]
  },
  {
   "cell_type": "markdown",
   "metadata": {},
   "source": [
    "## Latitude vs. Cloudiness Plot"
   ]
  },
  {
   "cell_type": "code",
   "execution_count": null,
   "metadata": {},
   "outputs": [],
   "source": [
    "#Create the Scatter Plot for Latitude vs. Cloudiness\n",
    "weather_data.plot(kind='scatter', x ='Lat', y='Cloudiness', marker='o', color='silver', \n",
    "                  edgecolor='dimgrey', alpha=0.5)\n",
    "\n",
    "#Define Labels\n",
    "plt.xlabel(\"Latitude\")\n",
    "plt.ylabel(\"Cloudiness (%)\")\n",
    "plt.title(\"City Latitude vs. Cloudiness (%)\")\n",
    "\n",
    "plt.tight_layout()\n",
    "\n",
    "#Save the plot as a .png\n",
    "plt.savefig(\"../Images/Latitude_Cloudiness.png\")"
   ]
  },
  {
   "cell_type": "markdown",
   "metadata": {},
   "source": [
    "## Latitude vs. Wind Speed Plot"
   ]
  },
  {
   "cell_type": "code",
   "execution_count": null,
   "metadata": {},
   "outputs": [],
   "source": [
    "#Create the Scatter Plot for Latitude vs. Wind Speed\n",
    "weather_data.plot(kind='scatter', x ='Lat', y='Wind Speed', marker='o', color='turquoise', \n",
    "                  edgecolor='teal', alpha=0.5)\n",
    "\n",
    "#Define Labels\n",
    "plt.xlabel(\"Latitude\")\n",
    "plt.ylabel(\"Wind Speed (mph)\")\n",
    "plt.title(\"City Latitude vs. Wind Speed (mph)\")\n",
    "\n",
    "plt.tight_layout()\n",
    "\n",
    "#Save the plot as a .png\n",
    "plt.savefig(\"../Images/Latitude_WindSpeed.png\")"
   ]
  },
  {
   "cell_type": "markdown",
   "metadata": {},
   "source": [
    "## Linear Regression"
   ]
  },
  {
   "cell_type": "code",
   "execution_count": null,
   "metadata": {},
   "outputs": [],
   "source": [
    "#Create DataFrames for Northern Hemisphere & Southern Hemisphere respectively for Analysis.\n",
    "northern_hemisphere_df = weather_data.loc[weather_data['Lat']>=0]\n",
    "\n",
    "southern_hemisphere_df = weather_data.loc[weather_data['Lat']<0]"
   ]
  },
  {
   "cell_type": "markdown",
   "metadata": {},
   "source": [
    "####  Northern Hemisphere - Max Temp vs. Latitude Linear Regression"
   ]
  },
  {
   "cell_type": "code",
   "execution_count": null,
   "metadata": {},
   "outputs": [],
   "source": [
    "\n",
    "#Creating a Scatter Plot for the Northern Hemisphere - Max Temp vs. Latitude \n",
    "northern_hemisphere_df.plot(kind='scatter', x='Lat', y='Max Temp', marker='o', color='crimson', \n",
    "                            edgecolor='darkred', alpha=0.5)\n",
    "plt.xlabel(\"Latitude\")\n",
    "plt.ylabel(\"Temperature (F)\")\n",
    "plt.title(\"City Latitude vs. Temperature (F) in the Northern Hemisphere\")\n",
    "plt.tight_layout()\n",
    "\n",
    "#Perform the Linear Regression\n",
    "x_values = northern_hemisphere_df['Lat']\n",
    "y_values = northern_hemisphere_df['Max Temp']\n",
    "(slope, intercept, rvalue, pvalue, stderr) = linregress(x_values, y_values)\n",
    "regress_values = x_values*slope + intercept\n",
    "line_eq = \"y =\" + str(round(slope,2)) + \"x +\" + str(round(intercept, 2))\n",
    "r_squared_value = rvalue**2\n",
    "\n",
    "#Plot the Linear Regression Line, Equation, Pearson's R & R-Squared Value\n",
    "plt.plot(x_values, regress_values, \"r--\")\n",
    "plt.annotate(line_eq, (50,80), fontsize=10, color = 'red')\n",
    "plt.annotate(f'r: {round(rvalue,2)}', (50, 75), fontsize=10, color='red')\n",
    "plt.annotate(f'r-squared: {round(r_squared_value,2)}', (50,70), fontsize=10, color='red')\n",
    "\n",
    "#Export Image to Images Folder\n",
    "plt.savefig(\"../Images/NorthernHemisphere_Temp.png\")"
   ]
  },
  {
   "cell_type": "markdown",
   "metadata": {},
   "source": [
    "####  Southern Hemisphere - Max Temp vs. Latitude Linear Regression"
   ]
  },
  {
   "cell_type": "code",
   "execution_count": null,
   "metadata": {},
   "outputs": [],
   "source": [
    "#Creating a Scatter Plot for the Southern Hemisphere - Max Temp vs. Latitude \n",
    "southern_hemisphere_df.plot(kind='scatter', x='Lat', y='Max Temp', marker='o', color='crimson', \n",
    "                            edgecolor='darkred', alpha=0.5)\n",
    "plt.xlabel(\"Latitude\")\n",
    "plt.ylabel(\"Temperature (F)\")\n",
    "plt.title(\"City Latitude vs. Temperature (F) in the Southern Hemisphere\")\n",
    "plt.tight_layout()\n",
    "\n",
    "#Perform the Linear Regression\n",
    "x_values = southern_hemisphere_df['Lat']\n",
    "y_values = southern_hemisphere_df['Max Temp']\n",
    "(slope, intercept, rvalue, pvalue, stderr) = linregress(x_values, y_values)\n",
    "regress_values = x_values*slope + intercept\n",
    "line_eq = \"y =\" + str(round(slope,2)) + \"x +\" + str(round(intercept, 2))\n",
    "r_squared_value = rvalue**2\n",
    "\n",
    "#Plot the Linear Regression Line, Equation, Pearson's R & R-Squared Value\n",
    "plt.plot(x_values, regress_values, \"r--\")\n",
    "plt.annotate(line_eq, (-50,80), fontsize=10, color = 'red')\n",
    "plt.annotate(f'r: {round(rvalue,2)}', (-50, 75), fontsize=10, color='red')\n",
    "plt.annotate(f'r-squared: {round(r_squared_value,2)}', (-50,70), fontsize=10, color='red')\n",
    "\n",
    "#Export Image to Images Folder\n",
    "plt.savefig(\"../Images/SouthernHemisphere_Temp.png\")"
   ]
  },
  {
   "cell_type": "markdown",
   "metadata": {},
   "source": [
    "ANALYSIS:\n",
    "The scatter plot for the Northen Hemisphere shows a very strong negative correlation between Latitude and Temperature (F), with a Pearson's R of -0.83. This means that as a city moves further North away from the equator (Latitude increases), the Temperature decreases. The R-squared value for this relationship is 0.68, meaning that for our dataset of cities, 68% of the variability in Temperature (F) is determined by Latitude in the Northern Hemisphere.\n",
    "\n",
    "The scatter plot for the Southern Hemisphere shows a strong posivite correlation between Latitude and Temperature (F), with a Pearson's R of 0.75. This means that as a city moves further further North towards the equator (Latitude increases), the Temperature increases. The R-squared value for this relationship is 0.56, meaning that for our dataset of cities, 56% of the variability in Tempearture (F) is determined by Latitude in the Southern Hemisphere.\n",
    "\n",
    "It is worth noting that the list of cities generated above did include a higher number of locations in the Northern Hemisphere. The Northern Hemisphere dataframe had 375 cities. The Southern Hemisphere dataframe had 183 cities. It stands to reason that this discrepency in sample size is the reason the Northen Hemisphere data exhibited a stronger relationship than the Southern Hemisphere data. If more cities were added to the Southern Hemisphere data set, it would be likely that the relationship between Latitude and Temperature (F) would grow stronger."
   ]
  },
  {
   "cell_type": "markdown",
   "metadata": {},
   "source": [
    "####  Northern Hemisphere - Humidity (%) vs. Latitude Linear Regression"
   ]
  },
  {
   "cell_type": "code",
   "execution_count": null,
   "metadata": {},
   "outputs": [],
   "source": [
    "#Creating a Scatter Plot for the Northern Hemisphere - Humidity vs. Latitude \n",
    "northern_hemisphere_df.plot(kind='scatter', x='Lat', y='Humidity', marker='o', color='skyblue', \n",
    "                            edgecolor='steelblue', alpha=0.5)\n",
    "plt.xlabel(\"Latitude\")\n",
    "plt.ylabel(\"Humidity (%)\")\n",
    "plt.title(\"City Latitude vs. Humidity (%) in the Northern Hemisphere\")\n",
    "plt.tight_layout()\n",
    "\n",
    "#Perform the Linear Regression\n",
    "x_values = northern_hemisphere_df['Lat']\n",
    "y_values = northern_hemisphere_df['Humidity']\n",
    "(slope, intercept, rvalue, pvalue, stderr) = linregress(x_values, y_values)\n",
    "regress_values = x_values*slope + intercept\n",
    "line_eq = \"y =\" + str(round(slope,2)) + \"x +\" + str(round(intercept, 2))\n",
    "r_squared_value = rvalue**2\n",
    "\n",
    "#Plot the Linear Regression Line, Equation, Pearson's R & R-Squared Value\n",
    "plt.plot(x_values, regress_values, \"r--\")\n",
    "plt.annotate(line_eq, (10,45), fontsize=10, color = 'red')\n",
    "plt.annotate(f'r: {round(rvalue,2)}', (10, 40), fontsize=10, color='red')\n",
    "plt.annotate(f'r-squared: {round(r_squared_value,2)}', (10,35), fontsize=10, color='red')\n",
    "\n",
    "#Export Image to Images Folder\n",
    "plt.savefig(\"../Images/NorthernHemisphere_Humidity.png\")"
   ]
  },
  {
   "cell_type": "markdown",
   "metadata": {},
   "source": [
    "####  Southern Hemisphere - Humidity (%) vs. Latitude Linear Regression"
   ]
  },
  {
   "cell_type": "code",
   "execution_count": null,
   "metadata": {},
   "outputs": [],
   "source": [
    "#Creating a Scatter Plot for the Southern Hemisphere - Humidity vs. Latitude \n",
    "southern_hemisphere_df.plot(kind='scatter', x='Lat', y='Humidity', marker='o', color='skyblue', \n",
    "                            edgecolor='steelblue', alpha=0.5)\n",
    "plt.xlabel(\"Latitude\")\n",
    "plt.ylabel(\"Humidity (%)\")\n",
    "plt.title(\"City Latitude vs. Humidity (%) in the Southern Hemisphere\")\n",
    "plt.tight_layout()\n",
    "\n",
    "#Perform the Linear Regression\n",
    "x_values = southern_hemisphere_df['Lat']\n",
    "y_values = southern_hemisphere_df['Humidity']\n",
    "(slope, intercept, rvalue, pvalue, stderr) = linregress(x_values, y_values)\n",
    "regress_values = x_values*slope + intercept\n",
    "line_eq = \"y =\" + str(round(slope,2)) + \"x +\" + str(round(intercept, 2))\n",
    "r_squared_value = rvalue**2\n",
    "\n",
    "#Plot the Linear Regression Line, Equation, Pearson's R & R-Squared Value\n",
    "plt.plot(x_values, regress_values, \"r--\")\n",
    "plt.annotate(line_eq, (-50,65), fontsize=10, color = 'red')\n",
    "plt.annotate(f'r: {round(rvalue,2)}', (-50, 60), fontsize=10, color='red')\n",
    "plt.annotate(f'r-squared: {round(r_squared_value,2)}', (-50,55), fontsize=10, color='red')\n",
    "\n",
    "#Export Image to Images Folder\n",
    "plt.savefig(\"../Images/SouthernHemisphere_Humidity.png\")"
   ]
  },
  {
   "cell_type": "markdown",
   "metadata": {},
   "source": [
    "ANALYSIS:\n",
    "Neither of the above scatter plots, depicicting the relationship between Latitude and Humidity (%) in the Northern and Southern Hemispheres respectively, shows any indication of a statistically significant relationship existing. There is a very weak positive correlation in the Northern Hemisphere, however the R-squared value is negligible. The positive correlation is even weaker in the Southern Hemisphere."
   ]
  },
  {
   "cell_type": "markdown",
   "metadata": {},
   "source": [
    "####  Northern Hemisphere - Cloudiness (%) vs. Latitude Linear Regression"
   ]
  },
  {
   "cell_type": "code",
   "execution_count": null,
   "metadata": {},
   "outputs": [],
   "source": [
    "#Creating a Scatter Plot for the Northern Hemisphere - Cloudiness vs. Latitude \n",
    "northern_hemisphere_df.plot(kind='scatter', x='Lat', y='Cloudiness', marker='o', color='silver', \n",
    "                            edgecolor='dimgrey', alpha=0.5)\n",
    "plt.xlabel(\"Latitude\")\n",
    "plt.ylabel(\"Cloudiness (%)\")\n",
    "plt.title(\"City Latitude vs. Cloudiness (%) in the Northern Hemisphere\")\n",
    "plt.tight_layout()\n",
    "\n",
    "#Perform the Linear Regression\n",
    "x_values = northern_hemisphere_df['Lat']\n",
    "y_values = northern_hemisphere_df['Cloudiness']\n",
    "(slope, intercept, rvalue, pvalue, stderr) = linregress(x_values, y_values)\n",
    "regress_values = x_values*slope + intercept\n",
    "line_eq = \"y =\" + str(round(slope,2)) + \"x +\" + str(round(intercept, 2))\n",
    "r_squared_value = rvalue**2\n",
    "\n",
    "#Plot the Linear Regression Line, Equation, Pearson's R & R-Squared Value\n",
    "plt.plot(x_values, regress_values, \"r--\")\n",
    "plt.annotate(line_eq, (63,55), fontsize=10, color = 'red')\n",
    "plt.annotate(f'r: {round(rvalue,2)}', (63, 50), fontsize=10, color='red')\n",
    "plt.annotate(f'r-squared: {round(r_squared_value,2)}', (63,45), fontsize=10, color='red')\n",
    "\n",
    "#Export Image to Images Folder\n",
    "plt.savefig(\"../Images/NorthernHemisphere_Cloudiness.png\")"
   ]
  },
  {
   "cell_type": "markdown",
   "metadata": {},
   "source": [
    "####  Southern Hemisphere - Cloudiness (%) vs. Latitude Linear Regression"
   ]
  },
  {
   "cell_type": "code",
   "execution_count": null,
   "metadata": {},
   "outputs": [],
   "source": [
    "#Creating a Scatter Plot for the Southern Hemisphere - Cloudiness vs. Latitude \n",
    "southern_hemisphere_df.plot(kind='scatter', x='Lat', y='Cloudiness', marker='o', color='silver', \n",
    "                            edgecolor='dimgrey', alpha=0.5)\n",
    "plt.xlabel(\"Latitude\")\n",
    "plt.ylabel(\"Cloudiness (%)\")\n",
    "plt.title(\"City Latitude vs. Cloudiness (%) in the Southern Hemisphere\")\n",
    "plt.tight_layout()\n",
    "\n",
    "#Perform the Linear Regression\n",
    "x_values = southern_hemisphere_df['Lat']\n",
    "y_values = southern_hemisphere_df['Cloudiness']\n",
    "(slope, intercept, rvalue, pvalue, stderr) = linregress(x_values, y_values)\n",
    "regress_values = x_values*slope + intercept\n",
    "line_eq = \"y =\" + str(round(slope,2)) + \"x +\" + str(round(intercept, 2))\n",
    "r_squared_value = rvalue**2\n",
    "\n",
    "#Plot the Linear Regression Line, Equation, Pearson's R & R-Squared Value\n",
    "plt.plot(x_values, regress_values, \"r--\")\n",
    "plt.annotate(line_eq, (-13,50), fontsize=10, color = 'red')\n",
    "plt.annotate(f'r: {round(rvalue,2)}', (-13, 45), fontsize=10, color='red')\n",
    "plt.annotate(f'r-squared: {round(r_squared_value,2)}', (-13,40), fontsize=10, color='red')\n",
    "\n",
    "#Export Image to Images Folder\n",
    "plt.savefig(\"../Images/SouthernHemisphere_Cloudiness.png\")"
   ]
  },
  {
   "cell_type": "markdown",
   "metadata": {},
   "source": [
    "ANALYSIS:\n",
    "As with the analysis between Latitude and Humidity above, the relationships shown by the above scatter plots for Latitude vs. Cloudiness (%) in the Northern and Southern Hemispheres shows little to no correlation. There is a very weak positive correlation present between Latitude and Cloudiness (%) in the Northen Hemisphere with a Pearson's R of 0.16 and an R-squared value of 0.03. Meaning that while Cloudiness (%) does increase as Latitude increases, it is not a statistically significant relationship.\n",
    "\n",
    "In the Southern Hemisphere, the positive correlation between Latitude and Cloudiness (%) does become stronger than in the Northern Hemisphere, but remains weak. The Pearson's R for this relationship is 0.24 and the R-squared value is 0.06. It is interesting to note that though the positive correlation itself became stronger, the percentage of variability contributed to this relationship became smaller. This could mean that other external factors are at play, causing this relationship to appear stronger than it is. This is a great example of correlation not equating to causation.\n",
    "\n",
    "Additionally, this is the first time we see the Southern Hemisphere having a stronger correlation than the Northern Hemisphere in our analysis."
   ]
  },
  {
   "cell_type": "markdown",
   "metadata": {},
   "source": [
    "####  Northern Hemisphere - Wind Speed (mph) vs. Latitude Linear Regression"
   ]
  },
  {
   "cell_type": "code",
   "execution_count": null,
   "metadata": {},
   "outputs": [],
   "source": [
    "#Creating a Scatter Plot for the Northern Hemisphere - Wind Speed vs. Latitude \n",
    "northern_hemisphere_df.plot(kind='scatter', x='Lat', y='Wind Speed', marker='o', color='turquoise', \n",
    "                            edgecolor='teal', alpha=0.5)\n",
    "plt.xlabel(\"Latitude\")\n",
    "plt.ylabel(\"Wind Speed (mph)\")\n",
    "plt.title(\"City Latitude vs. Wind Speed (mph) in the Northern Hemisphere\")\n",
    "plt.tight_layout()\n",
    "\n",
    "#Perform the Linear Regression\n",
    "x_values = northern_hemisphere_df['Lat']\n",
    "y_values = northern_hemisphere_df['Wind Speed']\n",
    "(slope, intercept, rvalue, pvalue, stderr) = linregress(x_values, y_values)\n",
    "regress_values = x_values*slope + intercept\n",
    "line_eq = \"y =\" + str(round(slope,2)) + \"x +\" + str(round(intercept, 2))\n",
    "r_squared_value = rvalue**2\n",
    "\n",
    "#Plot the Linear Regression Line, Equation, Pearson's R & R-Squared Value\n",
    "plt.plot(x_values, regress_values, \"r--\")\n",
    "plt.annotate(line_eq, (60,14), fontsize=10, color = 'red')\n",
    "plt.annotate(f'r: {round(rvalue,2)}', (60, 12), fontsize=10, color='red')\n",
    "plt.annotate(f'r-squared: {round(r_squared_value,2)}', (60,10), fontsize=10, color='red')\n",
    "\n",
    "#Export Image to Images Folder\n",
    "plt.savefig(\"../Images/NorthernHemisphere_WindSpeed.png\")"
   ]
  },
  {
   "cell_type": "markdown",
   "metadata": {},
   "source": [
    "####  Southern Hemisphere - Wind Speed (mph) vs. Latitude Linear Regression"
   ]
  },
  {
   "cell_type": "code",
   "execution_count": null,
   "metadata": {},
   "outputs": [],
   "source": [
    "#Creating a Scatter Plot for the Southern Hemisphere - Wind Speed vs. Latitude \n",
    "southern_hemisphere_df.plot(kind='scatter', x='Lat', y='Wind Speed', marker='o', color='turquoise', \n",
    "                            edgecolor='teal', alpha=0.5)\n",
    "plt.xlabel(\"Latitude\")\n",
    "plt.ylabel(\"Wind Speed (mph)\")\n",
    "plt.title(\"City Latitude vs. Wind Speed (mph) in the Southern Hemisphere\")\n",
    "plt.tight_layout()\n",
    "\n",
    "#Perform the Linear Regression\n",
    "x_values = southern_hemisphere_df['Lat']\n",
    "y_values = southern_hemisphere_df['Wind Speed']\n",
    "(slope, intercept, rvalue, pvalue, stderr) = linregress(x_values, y_values)\n",
    "regress_values = x_values*slope + intercept\n",
    "line_eq = \"y =\" + str(round(slope,2)) + \"x +\" + str(round(intercept, 2))\n",
    "r_squared_value = rvalue**2\n",
    "\n",
    "#Plot the Linear Regression Line, Equation, Pearson's R & R-Squared Value\n",
    "plt.plot(x_values, regress_values, \"r--\")\n",
    "plt.annotate(line_eq, (-50,14), fontsize=10, color = 'red')\n",
    "plt.annotate(f'r: {round(rvalue,2)}', (-50, 12), fontsize=10, color='red')\n",
    "plt.annotate(f'r-squared: {round(r_squared_value,2)}', (-50,10), fontsize=10, color='red')\n",
    "\n",
    "#Export Image to Images Folder\n",
    "plt.savefig(\"../Images/SouthernHemisphere_WindSpeed.png\")"
   ]
  },
  {
   "cell_type": "markdown",
   "metadata": {},
   "source": [
    "ANALYSIS:\n",
    "Neither of the above scatter plots, depicicting the relationship between Latitude and Wind Speed (mph) in the Northern and Southern Hemispheres respectively, shows any indication of a statistically significant relationship existing. There is a very weak positive correlation in the Northern Hemisphere and a very weak negative correlation in the Southern Hemisphere, but neither of these relationships is worth mentioning."
   ]
  },
  {
   "cell_type": "markdown",
   "metadata": {},
   "source": [
    "Final Analysis\n",
    "Looking at the above data there are a few important pieces of information that can be taken away:\n",
    "\n",
    "The strongest relationship observed between City Latitude and the various weather information collected was in relation to Max Temperature (F). Looking at the data set as a whole, the relationship between City Latitude and Temperature could not be assesed with a linear regression, as it is closer to a quadratic relationship. However, breaking the dataset in to the Northern and Southern Hemisphere allowed for the exploration of linear relationships. In the Northern Hemisphere there was a very strong negative correlation between Latitude and Temperature (F). In the Southern Hemisphere there was a strong positive correlation between Latitude and Temperature (F). In summary, this means that as a city becomes closer to the Equator, the temperature increases.\n",
    "\n",
    "The second strongest relationship observed was between City Latitude and Cloudiness, however it was by no means a strong or statistically significant relationship. There were very weak positive correlations between Latitude and Cloudiness for both the Northern and Southern Hemisphere. The R-squared values for these correlations were also very low, showing that the percent of variability in Cloudiness was not determined by the change in Latitude. There are likely external factors and other variables at play causing these weak positive correlations.\n",
    "\n",
    "The analysis done for City Latitude vs. Humidity and City Latitude vs. Wind Speed show that there was practically no relationship between the two variables. In the Northern Hemisphere there was a weak correlation between Humidity and Latitude, but the R-squared value was very small. Similarly to the above observations in regards to Cloudiness, this could mean that there are other variables at play causing this correlation to appear stronger than it is."
   ]
  }
 ],
 "metadata": {
  "anaconda-cloud": {},
  "kernel_info": {
   "name": "python3"
  },
  "kernelspec": {
   "display_name": "Python [conda env:PythonData] *",
   "language": "python",
   "name": "conda-env-PythonData-py"
  },
  "language_info": {
   "codemirror_mode": {
    "name": "ipython",
    "version": 3
   },
   "file_extension": ".py",
   "mimetype": "text/x-python",
   "name": "python",
   "nbconvert_exporter": "python",
   "pygments_lexer": "ipython3",
   "version": "3.6.10"
  },
  "latex_envs": {
   "LaTeX_envs_menu_present": true,
   "autoclose": false,
   "autocomplete": true,
   "bibliofile": "biblio.bib",
   "cite_by": "apalike",
   "current_citInitial": 1,
   "eqLabelWithNumbers": true,
   "eqNumInitial": 1,
   "hotkeys": {
    "equation": "Ctrl-E",
    "itemize": "Ctrl-I"
   },
   "labels_anchors": false,
   "latex_user_defs": false,
   "report_style_numbering": false,
   "user_envs_cfg": false
  },
  "nteract": {
   "version": "0.12.3"
  }
 },
 "nbformat": 4,
 "nbformat_minor": 2
}
